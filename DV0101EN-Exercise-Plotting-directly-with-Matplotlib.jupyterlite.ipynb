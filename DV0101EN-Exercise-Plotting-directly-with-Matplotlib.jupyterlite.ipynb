{
 "cells": [
  {
   "cell_type": "markdown",
   "id": "88761d07-734e-4bdc-9df6-7dc825ac197c",
   "metadata": {},
   "source": [
    "<center>\n",
    "    <img src=\"https://cf-courses-data.s3.us.cloud-object-storage.appdomain.cloud/IBMDeveloperSkillsNetwork-DV0101EN-SkillsNetwork/labs/Module%202/images/IDSNlogo.png\" width=\"300\" alt=\"cognitiveclass.ai logo\">\n",
    "</center>\n",
    "\n",
    "# Plotting directly with Matplotlib\n",
    "\n",
    "Estimated time needed: **45** minutes\n",
    "\n",
    "## Objectives\n",
    "\n",
    "After completing this lab you will be able to:\n",
    "\n",
    "*   Create and customize basic plots directly with Matplotlib on dataset\n"
   ]
  },
  {
   "cell_type": "markdown",
   "id": "116eb21a-2b83-4432-9810-0e35aeb4bf76",
   "metadata": {},
   "source": [
    "## Table of Contents\n",
    "\n",
    "<div class=\"alert alert-block alert-info\" style=\"margin-top: 20px\">\n",
    "\n",
    "1.  [Import Libraries](#0)<br>\n",
    "2.  [Fetching Data](#1) <br>\n",
    "3.  [Line Plot](#6) <br>\n",
    "4.  [Scatter Plot](#8) <br>\n",
    "5.  [Bar Plot](#10) <br>\n",
    "6.  [Histogram](#12) <br>\n",
    "7.  [Pie](#14) <br>\n",
    "8.  [Subplotting](#16) <br>\n",
    "</div>\n"
   ]
  },
  {
   "cell_type": "markdown",
   "id": "1f0215e4-b2b6-4d98-a0bf-f2ca1ff9a5a7",
   "metadata": {},
   "source": [
    "# Import Libraries<a id=\"0\"></a>\n"
   ]
  },
  {
   "cell_type": "markdown",
   "id": "2b14de55-387b-4ecc-adfd-b116fbddada7",
   "metadata": {},
   "source": [
    "Import the `matplotlib` library.\n"
   ]
  },
  {
   "cell_type": "code",
   "execution_count": 3,
   "id": "77a9c493-b43f-4325-b0c3-d77524d9a4a7",
   "metadata": {},
   "outputs": [
    {
     "name": "stdout",
     "output_type": "stream",
     "text": [
      "Matplotlib version:  3.5.1\n"
     ]
    }
   ],
   "source": [
    "#Import Primary Modules:\n",
    "import numpy as np  # useful for many scientific computing in Python\n",
    "import pandas as pd # primary data structure library\n",
    "\n",
    "# use the inline backend to generate the plots within the browser\n",
    "%matplotlib inline\n",
    "\n",
    "import matplotlib as mpl\n",
    "import matplotlib.pyplot as plt\n",
    "\n",
    "# check for latest version of Matplotlib\n",
    "print('Matplotlib version: ', mpl.__version__) # >= 2.0.0"
   ]
  },
  {
   "cell_type": "markdown",
   "id": "0bda6bef-2645-4c34-83cf-9ed5e195654c",
   "metadata": {},
   "source": [
    "# Fetching Data<a id=\"1\"></a>\n",
    "\n",
    "Dataset: Immigration to Canada from 1980 to 2013 - [International migration flows to and from selected countries - The 2015 revision](https://www.un.org/development/desa/pd/data/international-migration-flows) from United Nation's website.<br>\n",
    "In this lab, we will focus on the Canadian Immigration data and use the *already cleaned dataset* and can be fetched from <a href=\"https://cf-courses-data.s3.us.cloud-object-storage.appdomain.cloud/IBMDeveloperSkillsNetwork-DV0101EN-SkillsNetwork/Data%20Files/Canada.csv\">here</a>.\n",
    "<br><br>\n",
    "You can refer to the lab on data pre-processing wherein this dataset is cleaned for a quick refresh your Panads skill [Data pre-processing with Pandas](https://cf-courses-data.s3.us.cloud-object-storage.appdomain.cloud/IBMDeveloperSkillsNetwork-DV0101EN-SkillsNetwork/labs/june2023_updates/Module%201/DV0101EN-Exercise-Dataset-Preprocessing-Exploring-with-Pandas.ipynb)\n"
   ]
  },
  {
   "cell_type": "code",
   "execution_count": 7,
   "metadata": {},
   "outputs": [
    {
     "name": "stdout",
     "output_type": "stream",
     "text": [
      "Requirement already satisfied: requests in /opt/anaconda3/lib/python3.9/site-packages (2.27.1)\n",
      "Requirement already satisfied: charset-normalizer~=2.0.0 in /opt/anaconda3/lib/python3.9/site-packages (from requests) (2.0.4)\n",
      "Requirement already satisfied: idna<4,>=2.5 in /opt/anaconda3/lib/python3.9/site-packages (from requests) (3.3)\n",
      "Requirement already satisfied: certifi>=2017.4.17 in /opt/anaconda3/lib/python3.9/site-packages (from requests) (2023.5.7)\n",
      "Requirement already satisfied: urllib3<1.27,>=1.21.1 in /opt/anaconda3/lib/python3.9/site-packages (from requests) (1.26.9)\n",
      "Note: you may need to restart the kernel to use updated packages.\n"
     ]
    }
   ],
   "source": [
    "pip install requests\n"
   ]
  },
  {
   "cell_type": "code",
   "execution_count": 11,
   "metadata": {},
   "outputs": [
    {
     "name": "stdout",
     "output_type": "stream",
     "text": [
      "Data read into a pandas dataframe!\n"
     ]
    }
   ],
   "source": [
    "import requests\n",
    "import pandas as pd\n",
    "import io\n",
    "\n",
    "URL = \"https://cf-courses-data.s3.us.cloud-object-storage.appdomain.cloud/IBMDeveloperSkillsNetwork-DV0101EN-SkillsNetwork/Data%20Files/Canada.csv\"\n",
    "response = requests.get(URL)\n",
    "\n",
    "# Check if the request was successful (status code 200 means success)\n",
    "if response.status_code == 200:\n",
    "    # Read the data into a pandas dataframe\n",
    "    df_can = pd.read_csv(io.BytesIO(response.content))\n",
    "    print('Data read into a pandas dataframe!')\n",
    "else:\n",
    "    print('Error: Unable to fetch data from the URL.')\n"
   ]
  },
  {
   "cell_type": "markdown",
   "id": "e3b2b3fc-74d7-4466-9de5-9dc3dcfbfd32",
   "metadata": {},
   "source": [
    "Let's take a look at the first five items in our dataset.\n"
   ]
  },
  {
   "cell_type": "code",
   "execution_count": 12,
   "id": "f1208b96-7528-431f-9ef9-f93e86398ad7",
   "metadata": {},
   "outputs": [
    {
     "data": {
      "text/html": [
       "<div>\n",
       "<style scoped>\n",
       "    .dataframe tbody tr th:only-of-type {\n",
       "        vertical-align: middle;\n",
       "    }\n",
       "\n",
       "    .dataframe tbody tr th {\n",
       "        vertical-align: top;\n",
       "    }\n",
       "\n",
       "    .dataframe thead th {\n",
       "        text-align: right;\n",
       "    }\n",
       "</style>\n",
       "<table border=\"1\" class=\"dataframe\">\n",
       "  <thead>\n",
       "    <tr style=\"text-align: right;\">\n",
       "      <th></th>\n",
       "      <th>Country</th>\n",
       "      <th>Continent</th>\n",
       "      <th>Region</th>\n",
       "      <th>DevName</th>\n",
       "      <th>1980</th>\n",
       "      <th>1981</th>\n",
       "      <th>1982</th>\n",
       "      <th>1983</th>\n",
       "      <th>1984</th>\n",
       "      <th>1985</th>\n",
       "      <th>...</th>\n",
       "      <th>2005</th>\n",
       "      <th>2006</th>\n",
       "      <th>2007</th>\n",
       "      <th>2008</th>\n",
       "      <th>2009</th>\n",
       "      <th>2010</th>\n",
       "      <th>2011</th>\n",
       "      <th>2012</th>\n",
       "      <th>2013</th>\n",
       "      <th>Total</th>\n",
       "    </tr>\n",
       "  </thead>\n",
       "  <tbody>\n",
       "    <tr>\n",
       "      <th>0</th>\n",
       "      <td>Afghanistan</td>\n",
       "      <td>Asia</td>\n",
       "      <td>Southern Asia</td>\n",
       "      <td>Developing regions</td>\n",
       "      <td>16</td>\n",
       "      <td>39</td>\n",
       "      <td>39</td>\n",
       "      <td>47</td>\n",
       "      <td>71</td>\n",
       "      <td>340</td>\n",
       "      <td>...</td>\n",
       "      <td>3436</td>\n",
       "      <td>3009</td>\n",
       "      <td>2652</td>\n",
       "      <td>2111</td>\n",
       "      <td>1746</td>\n",
       "      <td>1758</td>\n",
       "      <td>2203</td>\n",
       "      <td>2635</td>\n",
       "      <td>2004</td>\n",
       "      <td>58639</td>\n",
       "    </tr>\n",
       "    <tr>\n",
       "      <th>1</th>\n",
       "      <td>Albania</td>\n",
       "      <td>Europe</td>\n",
       "      <td>Southern Europe</td>\n",
       "      <td>Developed regions</td>\n",
       "      <td>1</td>\n",
       "      <td>0</td>\n",
       "      <td>0</td>\n",
       "      <td>0</td>\n",
       "      <td>0</td>\n",
       "      <td>0</td>\n",
       "      <td>...</td>\n",
       "      <td>1223</td>\n",
       "      <td>856</td>\n",
       "      <td>702</td>\n",
       "      <td>560</td>\n",
       "      <td>716</td>\n",
       "      <td>561</td>\n",
       "      <td>539</td>\n",
       "      <td>620</td>\n",
       "      <td>603</td>\n",
       "      <td>15699</td>\n",
       "    </tr>\n",
       "    <tr>\n",
       "      <th>2</th>\n",
       "      <td>Algeria</td>\n",
       "      <td>Africa</td>\n",
       "      <td>Northern Africa</td>\n",
       "      <td>Developing regions</td>\n",
       "      <td>80</td>\n",
       "      <td>67</td>\n",
       "      <td>71</td>\n",
       "      <td>69</td>\n",
       "      <td>63</td>\n",
       "      <td>44</td>\n",
       "      <td>...</td>\n",
       "      <td>3626</td>\n",
       "      <td>4807</td>\n",
       "      <td>3623</td>\n",
       "      <td>4005</td>\n",
       "      <td>5393</td>\n",
       "      <td>4752</td>\n",
       "      <td>4325</td>\n",
       "      <td>3774</td>\n",
       "      <td>4331</td>\n",
       "      <td>69439</td>\n",
       "    </tr>\n",
       "    <tr>\n",
       "      <th>3</th>\n",
       "      <td>American Samoa</td>\n",
       "      <td>Oceania</td>\n",
       "      <td>Polynesia</td>\n",
       "      <td>Developing regions</td>\n",
       "      <td>0</td>\n",
       "      <td>1</td>\n",
       "      <td>0</td>\n",
       "      <td>0</td>\n",
       "      <td>0</td>\n",
       "      <td>0</td>\n",
       "      <td>...</td>\n",
       "      <td>0</td>\n",
       "      <td>1</td>\n",
       "      <td>0</td>\n",
       "      <td>0</td>\n",
       "      <td>0</td>\n",
       "      <td>0</td>\n",
       "      <td>0</td>\n",
       "      <td>0</td>\n",
       "      <td>0</td>\n",
       "      <td>6</td>\n",
       "    </tr>\n",
       "    <tr>\n",
       "      <th>4</th>\n",
       "      <td>Andorra</td>\n",
       "      <td>Europe</td>\n",
       "      <td>Southern Europe</td>\n",
       "      <td>Developed regions</td>\n",
       "      <td>0</td>\n",
       "      <td>0</td>\n",
       "      <td>0</td>\n",
       "      <td>0</td>\n",
       "      <td>0</td>\n",
       "      <td>0</td>\n",
       "      <td>...</td>\n",
       "      <td>0</td>\n",
       "      <td>1</td>\n",
       "      <td>1</td>\n",
       "      <td>0</td>\n",
       "      <td>0</td>\n",
       "      <td>0</td>\n",
       "      <td>0</td>\n",
       "      <td>1</td>\n",
       "      <td>1</td>\n",
       "      <td>15</td>\n",
       "    </tr>\n",
       "  </tbody>\n",
       "</table>\n",
       "<p>5 rows × 39 columns</p>\n",
       "</div>"
      ],
      "text/plain": [
       "          Country Continent           Region             DevName  1980  1981  \\\n",
       "0     Afghanistan      Asia    Southern Asia  Developing regions    16    39   \n",
       "1         Albania    Europe  Southern Europe   Developed regions     1     0   \n",
       "2         Algeria    Africa  Northern Africa  Developing regions    80    67   \n",
       "3  American Samoa   Oceania        Polynesia  Developing regions     0     1   \n",
       "4         Andorra    Europe  Southern Europe   Developed regions     0     0   \n",
       "\n",
       "   1982  1983  1984  1985  ...  2005  2006  2007  2008  2009  2010  2011  \\\n",
       "0    39    47    71   340  ...  3436  3009  2652  2111  1746  1758  2203   \n",
       "1     0     0     0     0  ...  1223   856   702   560   716   561   539   \n",
       "2    71    69    63    44  ...  3626  4807  3623  4005  5393  4752  4325   \n",
       "3     0     0     0     0  ...     0     1     0     0     0     0     0   \n",
       "4     0     0     0     0  ...     0     1     1     0     0     0     0   \n",
       "\n",
       "   2012  2013  Total  \n",
       "0  2635  2004  58639  \n",
       "1   620   603  15699  \n",
       "2  3774  4331  69439  \n",
       "3     0     0      6  \n",
       "4     1     1     15  \n",
       "\n",
       "[5 rows x 39 columns]"
      ]
     },
     "execution_count": 12,
     "metadata": {},
     "output_type": "execute_result"
    }
   ],
   "source": [
    "df_can.head()"
   ]
  },
  {
   "cell_type": "markdown",
   "id": "f6936d39-4eb1-462e-b680-66852b5ea54b",
   "metadata": {},
   "source": [
    "Let's find out how many entries there are in our dataset.\n"
   ]
  },
  {
   "cell_type": "code",
   "execution_count": 13,
   "id": "e683289b-b98f-4230-bd33-1713cbaac9cb",
   "metadata": {},
   "outputs": [
    {
     "name": "stdout",
     "output_type": "stream",
     "text": [
      "(195, 39)\n"
     ]
    }
   ],
   "source": [
    "# print the dimensions of the dataframe\n",
    "print(df_can.shape)"
   ]
  },
  {
   "cell_type": "markdown",
   "id": "a41e63e4-75c0-44ac-a7e0-a15cd3dc35d5",
   "metadata": {},
   "source": [
    "Set the country name as index - useful for quickly looking up countries using .loc method.\n"
   ]
  },
  {
   "cell_type": "code",
   "execution_count": 14,
   "id": "0534fe17-c243-41cf-974b-9ddf1bb05343",
   "metadata": {},
   "outputs": [
    {
     "data": {
      "text/html": [
       "<div>\n",
       "<style scoped>\n",
       "    .dataframe tbody tr th:only-of-type {\n",
       "        vertical-align: middle;\n",
       "    }\n",
       "\n",
       "    .dataframe tbody tr th {\n",
       "        vertical-align: top;\n",
       "    }\n",
       "\n",
       "    .dataframe thead th {\n",
       "        text-align: right;\n",
       "    }\n",
       "</style>\n",
       "<table border=\"1\" class=\"dataframe\">\n",
       "  <thead>\n",
       "    <tr style=\"text-align: right;\">\n",
       "      <th></th>\n",
       "      <th>Continent</th>\n",
       "      <th>Region</th>\n",
       "      <th>DevName</th>\n",
       "      <th>1980</th>\n",
       "      <th>1981</th>\n",
       "      <th>1982</th>\n",
       "      <th>1983</th>\n",
       "      <th>1984</th>\n",
       "      <th>1985</th>\n",
       "      <th>1986</th>\n",
       "      <th>...</th>\n",
       "      <th>2005</th>\n",
       "      <th>2006</th>\n",
       "      <th>2007</th>\n",
       "      <th>2008</th>\n",
       "      <th>2009</th>\n",
       "      <th>2010</th>\n",
       "      <th>2011</th>\n",
       "      <th>2012</th>\n",
       "      <th>2013</th>\n",
       "      <th>Total</th>\n",
       "    </tr>\n",
       "    <tr>\n",
       "      <th>Country</th>\n",
       "      <th></th>\n",
       "      <th></th>\n",
       "      <th></th>\n",
       "      <th></th>\n",
       "      <th></th>\n",
       "      <th></th>\n",
       "      <th></th>\n",
       "      <th></th>\n",
       "      <th></th>\n",
       "      <th></th>\n",
       "      <th></th>\n",
       "      <th></th>\n",
       "      <th></th>\n",
       "      <th></th>\n",
       "      <th></th>\n",
       "      <th></th>\n",
       "      <th></th>\n",
       "      <th></th>\n",
       "      <th></th>\n",
       "      <th></th>\n",
       "      <th></th>\n",
       "    </tr>\n",
       "  </thead>\n",
       "  <tbody>\n",
       "    <tr>\n",
       "      <th>Afghanistan</th>\n",
       "      <td>Asia</td>\n",
       "      <td>Southern Asia</td>\n",
       "      <td>Developing regions</td>\n",
       "      <td>16</td>\n",
       "      <td>39</td>\n",
       "      <td>39</td>\n",
       "      <td>47</td>\n",
       "      <td>71</td>\n",
       "      <td>340</td>\n",
       "      <td>496</td>\n",
       "      <td>...</td>\n",
       "      <td>3436</td>\n",
       "      <td>3009</td>\n",
       "      <td>2652</td>\n",
       "      <td>2111</td>\n",
       "      <td>1746</td>\n",
       "      <td>1758</td>\n",
       "      <td>2203</td>\n",
       "      <td>2635</td>\n",
       "      <td>2004</td>\n",
       "      <td>58639</td>\n",
       "    </tr>\n",
       "    <tr>\n",
       "      <th>Albania</th>\n",
       "      <td>Europe</td>\n",
       "      <td>Southern Europe</td>\n",
       "      <td>Developed regions</td>\n",
       "      <td>1</td>\n",
       "      <td>0</td>\n",
       "      <td>0</td>\n",
       "      <td>0</td>\n",
       "      <td>0</td>\n",
       "      <td>0</td>\n",
       "      <td>1</td>\n",
       "      <td>...</td>\n",
       "      <td>1223</td>\n",
       "      <td>856</td>\n",
       "      <td>702</td>\n",
       "      <td>560</td>\n",
       "      <td>716</td>\n",
       "      <td>561</td>\n",
       "      <td>539</td>\n",
       "      <td>620</td>\n",
       "      <td>603</td>\n",
       "      <td>15699</td>\n",
       "    </tr>\n",
       "    <tr>\n",
       "      <th>Algeria</th>\n",
       "      <td>Africa</td>\n",
       "      <td>Northern Africa</td>\n",
       "      <td>Developing regions</td>\n",
       "      <td>80</td>\n",
       "      <td>67</td>\n",
       "      <td>71</td>\n",
       "      <td>69</td>\n",
       "      <td>63</td>\n",
       "      <td>44</td>\n",
       "      <td>69</td>\n",
       "      <td>...</td>\n",
       "      <td>3626</td>\n",
       "      <td>4807</td>\n",
       "      <td>3623</td>\n",
       "      <td>4005</td>\n",
       "      <td>5393</td>\n",
       "      <td>4752</td>\n",
       "      <td>4325</td>\n",
       "      <td>3774</td>\n",
       "      <td>4331</td>\n",
       "      <td>69439</td>\n",
       "    </tr>\n",
       "    <tr>\n",
       "      <th>American Samoa</th>\n",
       "      <td>Oceania</td>\n",
       "      <td>Polynesia</td>\n",
       "      <td>Developing regions</td>\n",
       "      <td>0</td>\n",
       "      <td>1</td>\n",
       "      <td>0</td>\n",
       "      <td>0</td>\n",
       "      <td>0</td>\n",
       "      <td>0</td>\n",
       "      <td>0</td>\n",
       "      <td>...</td>\n",
       "      <td>0</td>\n",
       "      <td>1</td>\n",
       "      <td>0</td>\n",
       "      <td>0</td>\n",
       "      <td>0</td>\n",
       "      <td>0</td>\n",
       "      <td>0</td>\n",
       "      <td>0</td>\n",
       "      <td>0</td>\n",
       "      <td>6</td>\n",
       "    </tr>\n",
       "    <tr>\n",
       "      <th>Andorra</th>\n",
       "      <td>Europe</td>\n",
       "      <td>Southern Europe</td>\n",
       "      <td>Developed regions</td>\n",
       "      <td>0</td>\n",
       "      <td>0</td>\n",
       "      <td>0</td>\n",
       "      <td>0</td>\n",
       "      <td>0</td>\n",
       "      <td>0</td>\n",
       "      <td>2</td>\n",
       "      <td>...</td>\n",
       "      <td>0</td>\n",
       "      <td>1</td>\n",
       "      <td>1</td>\n",
       "      <td>0</td>\n",
       "      <td>0</td>\n",
       "      <td>0</td>\n",
       "      <td>0</td>\n",
       "      <td>1</td>\n",
       "      <td>1</td>\n",
       "      <td>15</td>\n",
       "    </tr>\n",
       "  </tbody>\n",
       "</table>\n",
       "<p>5 rows × 38 columns</p>\n",
       "</div>"
      ],
      "text/plain": [
       "               Continent           Region             DevName  1980  1981  \\\n",
       "Country                                                                     \n",
       "Afghanistan         Asia    Southern Asia  Developing regions    16    39   \n",
       "Albania           Europe  Southern Europe   Developed regions     1     0   \n",
       "Algeria           Africa  Northern Africa  Developing regions    80    67   \n",
       "American Samoa   Oceania        Polynesia  Developing regions     0     1   \n",
       "Andorra           Europe  Southern Europe   Developed regions     0     0   \n",
       "\n",
       "                1982  1983  1984  1985  1986  ...  2005  2006  2007  2008  \\\n",
       "Country                                       ...                           \n",
       "Afghanistan       39    47    71   340   496  ...  3436  3009  2652  2111   \n",
       "Albania            0     0     0     0     1  ...  1223   856   702   560   \n",
       "Algeria           71    69    63    44    69  ...  3626  4807  3623  4005   \n",
       "American Samoa     0     0     0     0     0  ...     0     1     0     0   \n",
       "Andorra            0     0     0     0     2  ...     0     1     1     0   \n",
       "\n",
       "                2009  2010  2011  2012  2013  Total  \n",
       "Country                                              \n",
       "Afghanistan     1746  1758  2203  2635  2004  58639  \n",
       "Albania          716   561   539   620   603  15699  \n",
       "Algeria         5393  4752  4325  3774  4331  69439  \n",
       "American Samoa     0     0     0     0     0      6  \n",
       "Andorra            0     0     0     1     1     15  \n",
       "\n",
       "[5 rows x 38 columns]"
      ]
     },
     "execution_count": 14,
     "metadata": {},
     "output_type": "execute_result"
    }
   ],
   "source": [
    "df_can.set_index('Country', inplace=True)\n",
    "\n",
    "# Let's view the first five elements and see how the dataframe was changed\n",
    "df_can.head()"
   ]
  },
  {
   "cell_type": "markdown",
   "id": "712a4491-31f5-4dd0-9bb0-09e985a3a060",
   "metadata": {},
   "source": [
    "Notice now the country names now serve as indices.\n"
   ]
  },
  {
   "cell_type": "code",
   "execution_count": 15,
   "id": "79e68263-a1ef-4ed2-a3aa-e103cd32fa43",
   "metadata": {},
   "outputs": [
    {
     "name": "stdout",
     "output_type": "stream",
     "text": [
      "data dimensions: (195, 38)\n"
     ]
    }
   ],
   "source": [
    "print('data dimensions:', df_can.shape)"
   ]
  },
  {
   "cell_type": "code",
   "execution_count": 17,
   "id": "445f72e3-f00a-4bbc-93a2-dddd27f074f4",
   "metadata": {},
   "outputs": [],
   "source": [
    "# finally, let's create a list of years from 1980 - 2013\n",
    "# this will come in handy when we start plotting the data\n",
    "years = list(map(str, range(1980, 2014)))\n",
    "#years = np.arange(1980,2014)"
   ]
  },
  {
   "cell_type": "markdown",
   "id": "a1e8cdc2-83ca-4dd8-b033-5737ca2f66ed",
   "metadata": {},
   "source": [
    "# Line Plot<a id=\"6\"></a>\n"
   ]
  },
  {
   "cell_type": "markdown",
   "id": "2ba28044-16ff-4de9-a121-6d6393ae8927",
   "metadata": {},
   "source": [
    "A line plot displays the relationship between two continuous variables over a continuous interval, showing the trend or pattern of the data.<br><br>Let's created a line plot to visualize the immigrants (to Canada) trend during 1980 to 2013.<br>We need the Total of year-wise immigrants,<br><br>We will create a new dataframe for only columns containing the years<br> then, we will apply sum() on the dataframe<br><br>You can do create a line plot directly on **axes** by calling plot function **plot()**\n"
   ]
  },
  {
   "cell_type": "code",
   "execution_count": 22,
   "id": "e2a5ea49-7af0-40d7-ac7f-9be41f744558",
   "metadata": {},
   "outputs": [
    {
     "data": {
      "text/plain": [
       "1980     99137\n",
       "1981    110563\n",
       "1982    104271\n",
       "1983     75550\n",
       "1984     73417\n",
       "1985     69978\n",
       "1986     86048\n",
       "1987    134771\n",
       "1988    139306\n",
       "1989    164432\n",
       "1990    188054\n",
       "1991    207509\n",
       "1992    221687\n",
       "1993    222049\n",
       "1994    193665\n",
       "1995    187712\n",
       "1996    200085\n",
       "1997    192885\n",
       "1998    160727\n",
       "1999    179818\n",
       "2000    216712\n",
       "2001    242643\n",
       "2002    223111\n",
       "2003    217297\n",
       "2004    232083\n",
       "2005    257457\n",
       "2006    247057\n",
       "2007    232405\n",
       "2008    243047\n",
       "2009    248768\n",
       "2010    276956\n",
       "2011    246194\n",
       "2012    256222\n",
       "2013    257537\n",
       "dtype: int64"
      ]
     },
     "execution_count": 22,
     "metadata": {},
     "output_type": "execute_result"
    }
   ],
   "source": [
    "#As years is in the array format, you will be required to map it to str for plotting\n",
    "#y=list(map(str, years))\n",
    "\n",
    "#creating df with only years columns from 1980 - 2013\n",
    "df_line=df_can[years]\n",
    "\n",
    "#Applying sum to get total immigrants year-wise\n",
    "total_immigrants=df_line.sum()\n",
    "total_immigrants"
   ]
  },
  {
   "cell_type": "code",
   "execution_count": 23,
   "id": "9b7bb297-8eb1-4297-aef4-1848e3c43eec",
   "metadata": {},
   "outputs": [
    {
     "data": {
      "image/png": "[encoded data removed]",
      "text/plain": [
       "<Figure size 432x288 with 1 Axes>"
      ]
     },
     "metadata": {
      "needs_background": "light"
     },
     "output_type": "display_data"
    }
   ],
   "source": [
    "#Create figure and axes\n",
    "fig, ax = plt.subplots()\n",
    "\n",
    "# Plot the line\n",
    "ax.plot(total_immigrants)\n",
    "\n",
    "#Setting up the Title\n",
    "ax.set_title('Immigrants between 1980 to 2013') \n",
    "#Setting up the Labels\n",
    "ax.set_xlabel('Years')\n",
    "ax.set_ylabel('Total Immigrants')\n",
    "\n",
    "#Display the plot\n",
    "plt.show()"
   ]
  },
  {
   "cell_type": "markdown",
   "id": "852c345b-94ad-4136-9011-b450383041bf",
   "metadata": {},
   "source": [
    "#### The plot function populated the x-axis with the index values (years), and the y-axis with the column values (population). <br>However, notice how the years were not displayed because they are of type string.<br> <br>Therefore, let's change the type of the index values to integer for plotting.\n"
   ]
  },
  {
   "cell_type": "code",
   "execution_count": 25,
   "id": "295e5b02-b1cc-43e2-b3f6-d08fd5fb0978",
   "metadata": {},
   "outputs": [
    {
     "data": {
      "image/png": "[encoded data removed]",
      "text/plain": [
       "<Figure size 432x288 with 1 Axes>"
      ]
     },
     "metadata": {
      "needs_background": "light"
     },
     "output_type": "display_data"
    }
   ],
   "source": [
    "#Create figure and axes\n",
    "fig, ax = plt.subplots()\n",
    "\n",
    "#Changing the index type to integer\n",
    "total_immigrants.index = total_immigrants.index.map(int)\n",
    "\n",
    "# Plot the line\n",
    "ax.plot(total_immigrants)\n",
    "\n",
    "#Setting up the Title\n",
    "ax.set_title('Immigrants between 1980 to 2013') \n",
    "\n",
    "#Setting up the Labels\n",
    "ax.set_xlabel('Years')\n",
    "ax.set_ylabel('Total Immigrants')\n",
    "\n",
    "#Display the plot\n",
    "plt.show()"
   ]
  },
  {
   "cell_type": "markdown",
   "id": "19357ba5-4a8d-46a0-adf0-d0f156d5987b",
   "metadata": {},
   "source": [
    "#### Let's now customize the above plot's appearance \n"
   ]
  },
  {
   "cell_type": "code",
   "execution_count": 26,
   "id": "610e97f9-fe28-46f7-bd23-1b1d4d27a384",
   "metadata": {},
   "outputs": [
    {
     "data": {
      "image/png": "[encoded data removed]",
      "text/plain": [
       "<Figure size 432x288 with 1 Axes>"
      ]
     },
     "metadata": {
      "needs_background": "light"
     },
     "output_type": "display_data"
    }
   ],
   "source": [
    "#Create figure and axes\n",
    "fig, ax = plt.subplots()\n",
    "\n",
    "#Changing the index type to integer\n",
    "total_immigrants.index = total_immigrants.index.map(int)\n",
    "\n",
    "# Customizing the appearance of Plot\n",
    "ax.plot(total_immigrants, \n",
    "        marker='s', #Including markers in squares shapes\n",
    "        markersize=5, #Setting the size of the marker\n",
    "        color='green', #Changing the color of the line\n",
    "        linestyle=\"dotted\") #Changing the line style to a Dotted line\n",
    "#Setting up the Title\n",
    "ax.set_title('Immigrants between 1980 to 2013') \n",
    "\n",
    "#Setting up the Labels\n",
    "ax.set_xlabel('Years')\n",
    "ax.set_ylabel('Total Immigrants')\n",
    "ax.legend(['Immigrants'])\n",
    "\n",
    "plt.show()"
   ]
  },
  {
   "cell_type": "markdown",
   "id": "95389ec4-52c7-4543-a9b8-d59b9f2a126f",
   "metadata": {},
   "source": [
    "#### Let's include the background grid, a legend and try to change the limits on the axis\n"
   ]
  },
  {
   "cell_type": "code",
   "execution_count": 27,
   "id": "54fd54ce-7eb8-4510-b0d6-aaef4cf4dac5",
   "metadata": {},
   "outputs": [
    {
     "data": {
      "image/png": "[encoded data removed]",
      "text/plain": [
       "<Figure size 432x288 with 1 Axes>"
      ]
     },
     "metadata": {
      "needs_background": "light"
     },
     "output_type": "display_data"
    }
   ],
   "source": [
    "#Create figure and axes\n",
    "fig, ax = plt.subplots()\n",
    "\n",
    "# Plot the line\n",
    "ax.plot(total_immigrants, \n",
    "        marker='s', #Including markers in squares shapes\n",
    "        markersize=5, #Setting the size of the marker\n",
    "        color='green', #Changing the color of the line\n",
    "        linestyle=\"dotted\") #Changing the line style to a Dotted line\n",
    "\n",
    "#Setting up the Title\n",
    "ax.set_title('Immigrants between 1980 to 2013') \n",
    "\n",
    "#Setting up the Labels\n",
    "ax.set_xlabel('Years')\n",
    "ax.set_ylabel('Total Immigrants')\n",
    "\n",
    "#limits on x-axis\n",
    "plt.xlim(1975, 2015)  #or ax.set_xlim()\n",
    "\n",
    "#Enabling Grid\n",
    "plt.grid(True)  #or ax.grid()\n",
    "\n",
    "#Legend\n",
    "plt.legend([\"Immigrants\"]) #or ax.legend()\n",
    "\n",
    "#Display the plot\n",
    "plt.show()"
   ]
  },
  {
   "cell_type": "markdown",
   "id": "483d3c63-9721-479c-a81c-0449994e14b4",
   "metadata": {},
   "source": [
    "Let's start with a case study:\n",
    "\n",
    "In 2010, Haiti suffered a catastrophic magnitude 7.0 earthquake. The quake caused widespread devastation and loss of life and aout three million people were affected by this natural disaster. As part of Canada's humanitarian effort, the Government of Canada stepped up its effort in accepting refugees from Haiti. We can quickly visualize this effort using a Line plot:\n",
    "\n",
    "### Question: Plot a line graph of immigration from Haiti \n"
   ]
  },
  {
   "cell_type": "markdown",
   "id": "b4c00618-ce1b-4b13-9348-6a5a653b2357",
   "metadata": {},
   "source": [
    "You be required to create a dataframe where the name of the 'Country' is equal to 'Haiti' and years from 1980 - 2013<br> Also you will be required to transpose the new dataframe in to a series for plotting<br>Might also have to change the type of index of the series to integer for a better look of the plot<br> Then create fig and ax and call function plot() on the data.\n"
   ]
  },
  {
   "cell_type": "markdown",
   "id": "2b5198f9-e7ef-475a-a555-525f5ebadeea",
   "metadata": {},
   "source": [
    "<details><summary>Click here for a sample python solution</summary>\n",
    "\n",
    "```python\n",
    "    #Creating data for plotting\n",
    "    df_can.reset_index(inplace=True)\n",
    "    haiti=df_can[df_can['Country']=='Haiti']\n",
    "\n",
    "    #creating haiti with only years columns from 1980 - 2013 \n",
    "    #and transposing to get the result as a series\n",
    "    haiti=haiti[years].T\n",
    "\n",
    "    #converting the index to type integer\n",
    "    haiti.index = haiti.index.map(int)\n",
    "    \n",
    "    #Plotting the line plot on the data\n",
    "    fig, ax = plt.subplots()\n",
    "    ax.plot(haiti)\n",
    "    #Setting up the Title\n",
    "    ax.set_title('Immigrants from Haiti between 1980 to 2013') \n",
    "    #Setting up the Labels\n",
    "    ax.set_xlabel('Years')\n",
    "    ax.set_ylabel('Number of Immigrants')\n",
    "    #Enabling Grid\n",
    "    #plt.grid(True)  #or ax.grid()\n",
    "    #Legend\n",
    "    plt.legend([\"Immigrants\"]) #or ax.legend()\n",
    "    #Display the plot\n",
    "    plt.show()\n",
    "```\n",
    "</details>\n"
   ]
  },
  {
   "cell_type": "code",
   "execution_count": 58,
   "id": "d6804207-ee8e-4ac6-91b2-0c52a5664c8c",
   "metadata": {},
   "outputs": [
    {
     "data": {
      "image/png": "[encoded data removed]",
      "text/plain": [
       "<Figure size 432x288 with 1 Axes>"
      ]
     },
     "metadata": {
      "needs_background": "light"
     },
     "output_type": "display_data"
    }
   ],
   "source": [
    "haiti = df_can[df_can[\"Country\"]==\"Haiti\"] \n",
    "\n",
    "haiti = haiti[years].transpose()\n",
    "\n",
    "haiti.index = haiti.index.map(int)\n",
    "\n",
    "    #Plotting the line plot on the data\n",
    "fig, ax = plt.subplots()\n",
    "ax.plot(haiti)\n",
    "    #Setting up the Title\n",
    "ax.set_title('Immigrants from Haiti between 1980 to 2013') \n",
    "    #Setting up the Labels\n",
    "ax.set_xlabel('Years')\n",
    "ax.set_ylabel('Number of Immigrants')\n",
    "    #Enabling Grid\n",
    "    #plt.grid(True)  #or ax.grid()\n",
    "    #Legend\n",
    "plt.legend([\"Immigrants\"]) #or ax.legend()\n",
    "    #Display the plot\n",
    "plt.show()"
   ]
  },
  {
   "cell_type": "markdown",
   "id": "39914709-9c13-4686-bd49-356605c0f486",
   "metadata": {},
   "source": [
    "#### We can clearly notice how number of immigrants from Haiti spiked up from 2010 as Canada stepped up its efforts to accept refugees from Haiti. <br>Let's annotate this spike in the plot by using the *ax.annotate()* method.\n"
   ]
  },
  {
   "cell_type": "code",
   "execution_count": 59,
   "id": "ae93fa57-a89b-4ec5-9435-608c51fafa0c",
   "metadata": {},
   "outputs": [
    {
     "data": {
      "image/png": "[encoded data removed]",
      "text/plain": [
       "<Figure size 432x288 with 1 Axes>"
      ]
     },
     "metadata": {
      "needs_background": "light"
     },
     "output_type": "display_data"
    }
   ],
   "source": [
    "fig, ax = plt.subplots()\n",
    "\n",
    "ax.plot(haiti)\n",
    "\n",
    "#Setting up the Title\n",
    "ax.set_title('Immigrants from Haiti between 1980 to 2013') \n",
    "\n",
    "#Setting up the Labels\n",
    "ax.set_xlabel('Years')\n",
    "ax.set_ylabel('Number of Immigrants')\n",
    "\n",
    "#Enabling Grid and ticks\n",
    "#plt.grid(True)  #or ax.grid()\n",
    "#ax.set_xticks(list(range(n, m, s)))\n",
    "\n",
    "#Legend\n",
    "plt.legend([\"Immigrants\"]) #or ax.legend()\n",
    "\n",
    "ax.annotate('2010 Earthquake',xy=(2000, 6000))\n",
    "plt.show()"
   ]
  },
  {
   "cell_type": "markdown",
   "id": "cd0fe8aa-186b-4dd2-8569-3cf17841ce0d",
   "metadata": {},
   "source": [
    "You can also specify the ticks to be displayed on the plot like this - ax.set_xticks(list(range(1980, 2015,5)))\n"
   ]
  },
  {
   "cell_type": "markdown",
   "id": "10bceb13-9a8f-4e90-950c-881298608a7a",
   "metadata": {},
   "source": [
    "---\n"
   ]
  },
  {
   "cell_type": "markdown",
   "id": "9fa2293b-e0d6-4bbf-8313-4a9ff917b88c",
   "metadata": {},
   "source": [
    "# Scatter Plot<a id=\"8\"></a>\n"
   ]
  },
  {
   "cell_type": "markdown",
   "id": "7724d17b-a2b3-4b1f-b25d-c64e1dc2f31a",
   "metadata": {},
   "source": [
    "A scatter plot visualizes the relationship between two continuous variables, displaying individual data points as dots on a two-dimensional plane, allowing for the examination of patterns, clusters, and correlations.<br><br>Let's created a *Scatter plot* to visualize the immigrants (to Canada) trend during 1980 to 2013.<br>We need the Total of year-wise immigrants,<br><br>We will create a new dataframe for only columns containing the years<br> then, we will apply sum() on the dataframe<br><br>You can do create a scatter plot directly on **ax** by calling plot function **scatter()**\n"
   ]
  },
  {
   "cell_type": "code",
   "execution_count": null,
   "id": "810ee5c8-a9e5-4df5-9531-12e31ac7507e",
   "metadata": {},
   "outputs": [],
   "source": [
    "#Create figure and axes\n",
    "fig, ax = plt.subplots(figsize=(8, 4))\n",
    "\n",
    "# Customizing Scatter Plot \n",
    "ax.scatter(years, total_immigrants, \n",
    "           marker='o', #setting up the markers\n",
    "           s = 20, #setting up the size of the markers\n",
    "           color='darkblue')#the color for the marker\n",
    "\n",
    "#add title \n",
    "plt.title('Immigrants between 1980 to 2013') \n",
    "#add labels \n",
    "plt.xlabel('Years')\n",
    "plt.ylabel('Total Immigrants') \n",
    "#including grid\n",
    "plt.grid(True)\n",
    "\n",
    "#Legend at upper center of the figure\n",
    "ax.legend([\"Immigrants\"], loc='upper center')\n",
    "\n",
    "#Display the plot\n",
    "plt.show()"
   ]
  },
  {
   "cell_type": "code",
   "execution_count": null,
   "id": "3216b6e9-f97d-4b7a-a435-c5008940ba9c",
   "metadata": {},
   "outputs": [],
   "source": [
    "#Create figure and axes\n",
    "fig, ax = plt.subplots(figsize=(8, 4))\n",
    "\n",
    "total_immigrants.index = total_immigrants.index.map(int)\n",
    "\n",
    "# Customizing Scatter Plot \n",
    "ax.scatter(total_immigrants.index, total_immigrants, \n",
    "           marker='o', #setting up the markers\n",
    "           s = 20, #setting up the size of the markers\n",
    "           color='darkblue')#the color for the marker\n",
    "\n",
    "#add title \n",
    "plt.title('Immigrants between 1980 to 2013') \n",
    "#add labels \n",
    "plt.xlabel('Years')\n",
    "plt.ylabel('Total Immigrants') \n",
    "#including grid\n",
    "plt.grid(True)\n",
    "\n",
    "#Legend at upper center of the figure\n",
    "ax.legend([\"Immigrants\"], loc='upper center')\n",
    "\n",
    "#Display the plot\n",
    "plt.show()"
   ]
  },
  {
   "cell_type": "markdown",
   "id": "87eead1d-5a7a-4f25-a4c4-7f38ae2cd44b",
   "metadata": {},
   "source": [
    "### Refer to the [matplotlib documentation](https://matplotlib.org/stable/api/markers_api.html) and change the marker and its size, color in the above code to see the difference in the appearance of the plot\n"
   ]
  },
  {
   "cell_type": "markdown",
   "id": "22098dba-57f3-415c-8deb-139097714dc3",
   "metadata": {},
   "source": [
    "---\n"
   ]
  },
  {
   "cell_type": "markdown",
   "id": "5d72eb89-d765-4f68-99d6-590b7c9c2a65",
   "metadata": {},
   "source": [
    "# Bar Plot<a id=\"10\"></a>\n"
   ]
  },
  {
   "cell_type": "markdown",
   "id": "548d8d00-b490-4b7d-91f2-b0c7d8275cce",
   "metadata": {},
   "source": [
    "A bar plot represents categorical data with rectangular bars, where the height of each bar corresponds to the value of a specific category, making it suitable for comparing values across different categories.<br><br>Let's create a bar plot to visualize the top 5 countries that contribued the most immigrants to Canada from 1980 to 2013. \n",
    "<br><br>Apply sort_values function on the 'Total' column of our data<br><br>We will create a new dataframe for only columns containing the years<br> then, we will apply sum() on the dataframe and can create a separatedataframe for top five countries<br><br>You can further use the names of the countries to label each bar on the plot\n"
   ]
  },
  {
   "cell_type": "code",
   "execution_count": null,
   "id": "c79b153d-696e-414c-9d72-e9ab69cc64ba",
   "metadata": {},
   "outputs": [],
   "source": [
    "#Sorting the dataframe on 'Total' in descending order\n",
    "df_can.sort_values(['Total'], ascending=False, axis=0, inplace=True)\n",
    "\n",
    "# get the top 5 entries with head function\n",
    "df_top5 = df_can.head()\n",
    "\n",
    "#resetting the index back to original way\n",
    "df_bar_5=df_top5.reset_index()\n",
    "\n",
    "#Creating alist of names of the top 5 countries\n",
    "label=list(df_bar_5.Country)\n",
    "label"
   ]
  },
  {
   "cell_type": "markdown",
   "id": "281b6227-9628-4201-83b0-f20cffe4f787",
   "metadata": {},
   "source": [
    "##### The third name is too lengthy to fit on the x-axis as label. Let's fix this using indexing\n"
   ]
  },
  {
   "cell_type": "code",
   "execution_count": null,
   "id": "a60c506b-12bb-479b-9808-c2211b0ef2de",
   "metadata": {},
   "outputs": [],
   "source": [
    "label[2]='UK'\n",
    "label"
   ]
  },
  {
   "cell_type": "code",
   "execution_count": null,
   "id": "86adb20d-18c9-4070-86f0-f58dff6bd3a4",
   "metadata": {},
   "outputs": [],
   "source": [
    "fig, ax = plt.subplots(figsize=(10, 4))\n",
    "\n",
    "ax.bar(label,df_bar_5['Total'], label=label)\n",
    "ax.set_title('Immigration Trend of Top 5 Countries')\n",
    "ax.set_ylabel('Number of Immigrants')\n",
    "ax.set_xlabel('Years')\n",
    "\n",
    "plt.show()"
   ]
  },
  {
   "cell_type": "markdown",
   "id": "8e65c271-1f46-4ddc-9707-677d8618e26b",
   "metadata": {},
   "source": [
    "### Question: Create a bar plot of the 5 countries that contributed the **least** to immigration to Canada **from** 1980 to 2013. \n"
   ]
  },
  {
   "cell_type": "code",
   "execution_count": null,
   "id": "fb016457-0245-4bbc-ba2c-7df3f1023c6f",
   "metadata": {},
   "outputs": [],
   "source": []
  },
  {
   "cell_type": "markdown",
   "id": "12123403-3596-47c5-897d-2802aaf42fa1",
   "metadata": {},
   "source": [
    "<details><summary>Click here for a sample python solution</summary>\n",
    "\n",
    "```python\n",
    "    #Sorting the dataframe on 'Total' in descending order\n",
    "    df_can.sort_values(['Total'], ascending=True, axis=0, inplace=True)\n",
    "\n",
    "    # get the top 5 entries with head function\n",
    "    df_least5 = df_can.head()\n",
    "\n",
    "    #resetting the index back to original way\n",
    "    df_least5_bar=df_least5.reset_index()\n",
    "\n",
    "    #Creating alist of names of the top 5 countries\n",
    "    label=list(df_least5_bar.Country)\n",
    "    #label\n",
    "\n",
    "    fig, ax = plt.subplots(figsize=(10, 4))\n",
    "\n",
    "    ax.bar(label, df_least5_bar['Total'],label=label)\n",
    "    ax.set_title('Immigration Trend of Top 5 Countries')\n",
    "    ax.set_ylabel('Number of Immigrants')\n",
    "    ax.set_xlabel('Years')\n",
    "\n",
    "    plt.show()\n",
    " ```\n",
    "    </details>\n"
   ]
  },
  {
   "cell_type": "markdown",
   "id": "0a94f625-1cc9-408e-8404-357c7d08626c",
   "metadata": {},
   "source": [
    "---\n"
   ]
  },
  {
   "cell_type": "markdown",
   "id": "00800536-68db-4c3b-bf7e-9663424e4cc8",
   "metadata": {},
   "source": [
    "# Histogram<a id=\"12\"></a>\n"
   ]
  },
  {
   "cell_type": "markdown",
   "id": "7eb50aa1-a466-4741-b292-a07116ecffe4",
   "metadata": {},
   "source": [
    "A histogram is a way of representing the *frequency* distribution of numeric dataset. The way it works is it partitions the x-axis into *bins*, assigns each data point in our dataset to a bin, and then counts the number of data points that have been assigned to each bin. So the y-axis is the frequency or the number of data points in each bin. Note that we can change the bin size and usually one needs to tweak it so that the distribution is displayed nicely.\n",
    "<br><br>Let's find out the frequency distribution of the number (population) of new immigrants from the various countries to Canada in 2013?<br>\n"
   ]
  },
  {
   "cell_type": "code",
   "execution_count": null,
   "id": "37450d8b-5062-444f-8a24-319bef2102ce",
   "metadata": {},
   "outputs": [],
   "source": [
    "df_country = df_can.groupby(['Country'])['2013'].sum().reset_index()\n",
    "\n",
    "#Create figure and axes\n",
    "fig, ax = plt.subplots(figsize=(10, 4))\n",
    "ax.hist(df_country['2013'])\n",
    "ax.set_title('New Immigrants in 2013') \n",
    "ax.set_xlabel('Number of Immigrants')\n",
    "ax.set_ylabel('Number of Countries')\n",
    "ax.legend(['Immigrants'])\n",
    "\n",
    "#Display the plot\n",
    "plt.show()"
   ]
  },
  {
   "cell_type": "markdown",
   "id": "b87f50f6-4f9c-4922-b9ad-859d21f0a077",
   "metadata": {},
   "source": [
    "Our plot doesnot match with the bars<br>By default, the `histrogram` method breaks up the dataset into 10 bins. The figure below summarizes the bin ranges and the frequency distribution of immigration in 2013<br> The hist function retuns list of arrays with 1. counts and 2. bins. we can fetch that using unpacking functionality <br> and further use the bins as x-ticks\n"
   ]
  },
  {
   "cell_type": "code",
   "execution_count": null,
   "id": "251e6398-ae78-467d-a015-51ee02d326ea",
   "metadata": {},
   "outputs": [],
   "source": [
    "# Plot the bar\n",
    "fig, ax = plt.subplots(figsize=(10, 4))\n",
    "count = ax.hist(df_country['2013'])\n",
    "\n",
    "#you can check the arrays in count with indexing count[0] for count, count[1] for bins\n",
    "\n",
    "ax.set_title('New Immigrants in 2013') \n",
    "ax.set_xlabel('Number of Immigrants')\n",
    "ax.set_ylabel('Number of Countries')\n",
    "ax.set_xticks(list(map(int,count[1])))\n",
    "ax.legend(['Immigrants'])\n",
    "\n",
    "#Display the plot\n",
    "plt.show()"
   ]
  },
  {
   "cell_type": "markdown",
   "id": "46de524d-7eed-4a02-9b43-a74bb6687103",
   "metadata": {},
   "source": [
    "#### We can also plot multiple histograms on the same plot. For example, let's try to answer the following questions using a histogram.\n",
    "\n",
    "#### What is the immigration distribution for Denmark, Norway, and Sweden for years 1980 - 2013?\n"
   ]
  },
  {
   "cell_type": "code",
   "execution_count": null,
   "id": "bd536e40-47d1-4d0b-a5c8-c2eecc96c78f",
   "metadata": {},
   "outputs": [],
   "source": [
    "# let's quickly view the dataset \n",
    "df=df_can.groupby(['Country'])[years].sum()\n",
    "df_dns=df.loc[['Denmark', 'Norway', 'Sweden'], years]\n",
    "df_dns=df_dns.T\n",
    "df_dns"
   ]
  },
  {
   "cell_type": "code",
   "execution_count": null,
   "id": "54e7ecd0-84df-4642-ba7b-cb7ce50cb915",
   "metadata": {},
   "outputs": [],
   "source": [
    "#Create figure and axes\n",
    "fig, ax = plt.subplots(figsize=(10, 4))\n",
    "ax.hist(df_dns)\n",
    "ax.set_title('Immigration from Denmark, Norway, and Sweden from 1980 - 2013') \n",
    "ax.set_xlabel('Number of Immigrants')\n",
    "ax.set_ylabel('Number of Years')\n",
    "ax.legend(['Denmark', 'Norway', 'Sweden'])\n",
    "#Display the plot\n",
    "plt.show()"
   ]
  },
  {
   "cell_type": "markdown",
   "id": "e95f92c8-2469-4aba-b667-047dd8d4e830",
   "metadata": {},
   "source": [
    "### Question: What is the immigration distribution for China and India for years 2000 to 2013?\n"
   ]
  },
  {
   "cell_type": "code",
   "execution_count": null,
   "id": "6eb8dfc5-a5db-443e-b4de-601694893e49",
   "metadata": {},
   "outputs": [],
   "source": []
  },
  {
   "cell_type": "markdown",
   "id": "faa06559-bcbd-4877-be64-2f9e78abf482",
   "metadata": {},
   "source": [
    "<details><summary>Click here for a sample python solution</summary>\n",
    "\n",
    "```python\n",
    "    # let's quickly view the dataset \n",
    "    df=df_can.groupby(['Country'])[years].sum()\n",
    "    y=list(map(str,range(2000, 2014)))\n",
    "    df_ci=df.loc[['China', 'India'], y]\n",
    "    df_ci=df_ci.T\n",
    "    #df_ci\n",
    "    fig, ax = plt.subplots(figsize=(10, 4))\n",
    "    ax.hist(df_ci)\n",
    "    ax.set_title('Immigration from Denmark, Norway, and Sweden from 1980 - 2013') \n",
    "    ax.set_xlabel('Number of Immigrants')\n",
    "    ax.set_ylabel('Number of Years')\n",
    "    ax.legend(['China', 'India'])\n",
    "    #Display the plot\n",
    "    plt.show()\n",
    "```\n",
    "</details>\n"
   ]
  },
  {
   "cell_type": "markdown",
   "id": "16f47f4c-d87f-4d45-9c09-442571d6d66f",
   "metadata": {},
   "source": [
    "---\n"
   ]
  },
  {
   "cell_type": "markdown",
   "id": "dbd7c714-bad1-40a7-a0e5-3c039c3c53b6",
   "metadata": {},
   "source": [
    "# Pie Chart<a id=\"14\"></a>\n",
    "\n",
    "A pie chart represents the proportion or percentage distribution of different categories in a dataset using sectors of a circular pie.\n",
    "<br> Let's create a pie chart representing the 'Total Immigrants' for the year 1980 to 1985\n"
   ]
  },
  {
   "cell_type": "code",
   "execution_count": null,
   "id": "b7189b5f-f8ec-4133-ada3-6c4b12e860e5",
   "metadata": {},
   "outputs": [],
   "source": [
    "fig,ax=plt.subplots()\n",
    "\n",
    "#Pie on immigrants\n",
    "ax.pie(total_immigrants[0:5], labels=years[0:5], \n",
    "       colors = ['gold','blue','lightgreen','coral','cyan'],\n",
    "       autopct='%1.1f%%',explode = [0,0,0,0,0.1]) #using explode to highlight the lowest \n",
    "\n",
    "ax.set_aspect('equal')  # Ensure pie is drawn as a circle\n",
    "\n",
    "plt.title('Distribution of Immigrants from 1980 to 1985')\n",
    "#plt.legend(years[0:5]), include legend, if you donot want to pass the labels\n",
    "plt.show()"
   ]
  },
  {
   "cell_type": "markdown",
   "id": "c8022df4-c954-446e-8db0-ba01f0e165db",
   "metadata": {},
   "source": [
    "### Question: Create a pie chart representing the total immigrants proportion for each continent\n",
    "\n",
    "First, you will have to group the data over continents and get the sum on total. Then you can pass this data to the pie function\n"
   ]
  },
  {
   "cell_type": "code",
   "execution_count": null,
   "id": "421ec7ad-d12f-46a1-8a64-7aef4943a9d3",
   "metadata": {},
   "outputs": [],
   "source": [
    "#Creating data for plotting pie\n",
    "df_con=df_can.groupby('Continent')['Total'].sum().reset_index()\n",
    "label=list(df_con.Continent)\n",
    "label[3] = 'LAC'\n",
    "label[4] = 'NA'\n",
    "df_con"
   ]
  },
  {
   "cell_type": "code",
   "execution_count": null,
   "id": "50bb50e0-8be9-466b-9ef9-75d1f7b3446e",
   "metadata": {},
   "outputs": [],
   "source": []
  },
  {
   "cell_type": "markdown",
   "id": "ef730ae5-72f5-4066-abb4-4afdf615e29a",
   "metadata": {},
   "source": [
    "<details><summary>Click here for a sample python solution</summary>\n",
    "\n",
    "```python\n",
    "    fig,ax=plt.subplots(figsize=(10, 4))\n",
    "\n",
    "    #Pie on immigrants\n",
    "    ax.pie(df_con['Total'], colors = ['gold','blue','lightgreen','coral','cyan','red'],\n",
    "           autopct='%1.1f%%', pctdistance=1.25)\n",
    "\n",
    "    ax.set_aspect('equal')  # Ensure pie is drawn as a circle\n",
    "\n",
    "    plt.title('Continent-wise distribution of immigrants')\n",
    "    ax.legend(label,bbox_to_anchor=(1, 0, 0.5, 1))\n",
    "    plt.show()\n",
    " ```\n",
    "    </details>\n"
   ]
  },
  {
   "cell_type": "markdown",
   "id": "ab7881e7-9a8f-46d9-8172-1ef9208ebf08",
   "metadata": {},
   "source": [
    "---\n"
   ]
  },
  {
   "cell_type": "markdown",
   "id": "e2c42a6b-aa9c-4d60-877c-aa92da5ecf3b",
   "metadata": {},
   "source": [
    "# Sub-plotting<a id=\"18\"></a>\n"
   ]
  },
  {
   "cell_type": "markdown",
   "id": "4337b049-df4a-4abd-a551-acc918d1f4a7",
   "metadata": {},
   "source": [
    "Let us explore how to display more than one plot on the same figure and specify the number of rows and columns to be created to the subplots function.  \n",
    "\n",
    "For instance, let’s create a line and scatter plot in one row <br>\n",
    "plt.subplots() <br>\n",
    "You can use the same functions using which you plotte lne and scatter plots at the start of this lab\n",
    "<br>\n",
    "Both the subplots will be sharing the same y-axis as the data in the y-axis is the same. So, assign the ‘Sharey’ parameter as True in the code below. Also notice the use of 'suptitle'\n"
   ]
  },
  {
   "cell_type": "code",
   "execution_count": null,
   "id": "82dc85de-2664-4c87-8f35-8638958ca71c",
   "metadata": {},
   "outputs": [],
   "source": [
    "# Create a figure with two axes in a row\n",
    "\n",
    "fig, axs = plt.subplots(1, 2, sharey=True)\n",
    "\n",
    "#Plotting in first axes - the left one\n",
    "axs[0].plot(total_immigrants)\n",
    "axs[0].set_title(\"Line plot on immigrants\")\n",
    "\n",
    "#Plotting in second axes - the right one\n",
    "axs[1].scatter(total_immigrants.index, total_immigrants)\n",
    "axs[1].set_title(\"Scatter plot on immigrants\")\n",
    "\n",
    "axs[0].set_ylabel(\"Number of Immigrants\")\n",
    "            \n",
    "#Adding a Title for the Overall Figure\n",
    "fig.suptitle('Subplotting Example', fontsize=15)\n",
    "\n",
    "# Adjust spacing between subplots\n",
    "fig.tight_layout()\n",
    "\n",
    "\n",
    "# Show the figure\n",
    "plt.show()"
   ]
  },
  {
   "cell_type": "markdown",
   "id": "e37946dd-b3fe-455b-9e12-cb2bd120a6b9",
   "metadata": {},
   "source": [
    "You can also implement the subplotting with **add_subplot()** as below:-\n"
   ]
  },
  {
   "cell_type": "code",
   "execution_count": null,
   "id": "604cdde5-7824-4877-a66f-7700fc27f43d",
   "metadata": {},
   "outputs": [],
   "source": [
    "# Create a figure with Four axes - two rows, two columns\n",
    "fig = plt.figure(figsize=(8,4))\n",
    "\n",
    "# Add the first subplot (top-left)\n",
    "axs1 = fig.add_subplot(1, 2, 1)\n",
    "#Plotting in first axes - the left one\n",
    "axs1.plot(total_immigrants)\n",
    "axs1.set_title(\"Line plot on immigrants\")\n",
    "\n",
    "# Add the second subplot (top-right)\n",
    "axs2 = fig.add_subplot(1, 2, 2)\n",
    "#Plotting in second axes - the right one\n",
    "axs2.barh(total_immigrants.index, total_immigrants) #Notice the use of 'barh' for creating horizontal bar plot\n",
    "axs2.set_title(\"Bar plot on immigrants\")\n",
    "            \n",
    "#Adding a Title for the Overall Figure\n",
    "fig.suptitle('Subplotting Example', fontsize=15)\n",
    "\n",
    "# Adjust spacing between subplots\n",
    "fig.tight_layout()\n",
    "\n",
    "\n",
    "# Show the figure\n",
    "plt.show()"
   ]
  },
  {
   "cell_type": "markdown",
   "id": "4df97228-d1ca-4c80-bf4d-152f3c6df819",
   "metadata": {},
   "source": [
    "### Question: Choose any four plots, which you have developed in this lab, with subplotting display them in a 2x2 display\n"
   ]
  },
  {
   "cell_type": "code",
   "execution_count": null,
   "id": "9bb2b95a-1a3a-421e-8a4f-dea75c0821ae",
   "metadata": {},
   "outputs": [],
   "source": []
  },
  {
   "cell_type": "markdown",
   "id": "98cd1608-8d3b-40f1-b179-ad28ba733636",
   "metadata": {},
   "source": [
    "\n",
    "<details><summary>Click here for a sample python solution</summary>\n",
    "\n",
    "```python\n",
    "    # Create a figure with Four axes - two rows, two columns\n",
    "    fig = plt.figure(figsize=(10, 10))\n",
    "\n",
    "    # Add the first subplot (top-left)\n",
    "    ax1 = fig.add_subplot(2, 2, 1)\n",
    "    ax1.plot(total_immigrants)\n",
    "    ax1.set_title('Plot 1 - Line Plot')\n",
    "\n",
    "    # Add the second subplot (top-right)\n",
    "    ax2 = fig.add_subplot(2, 2, 2)\n",
    "    ax2.scatter(total_immigrants.index, total_immigrants)\n",
    "    ax2.set_title('Plot 2 - Scatter plot')\n",
    "\n",
    "    # Add the third subplot (bottom-left)\n",
    "    ax3 = fig.add_subplot(2, 2, 3)\n",
    "    ax3.hist(df_dns)\n",
    "    ax3.set_title('Plot3 - Histogram') \n",
    "    ax3.set_xlabel('Number of Immigrants')\n",
    "    ax3.set_ylabel('Number of Years')\n",
    "\n",
    "    # Add the fourth subplot (bottom-right)\n",
    "    ax4 = fig.add_subplot(2, 2, 4)\n",
    "    ax4.pie(total_immigrants[0:5], labels=years[0:5], \n",
    "           colors = ['gold','blue','lightgreen','coral','cyan'],\n",
    "           autopct='%1.1f%%')\n",
    "    ax4.set_aspect('equal')  \n",
    "    ax4.set_title('Plot 5 - Pie Chart')\n",
    "\n",
    "    #Adding a Title for the Overall Figure\n",
    "    fig.suptitle('Four Plots in a Figure Example', fontsize=15)\n",
    "\n",
    "    # Adjust spacing between subplots\n",
    "    fig.tight_layout()\n",
    "\n",
    "\n",
    "    # Show the figure\n",
    "    plt.show()\n",
    "  ```\n",
    "    </details>\n"
   ]
  },
  {
   "cell_type": "markdown",
   "id": "45a80566-2567-404d-9b35-886327e8ebbf",
   "metadata": {},
   "source": [
    "---\n"
   ]
  },
  {
   "cell_type": "markdown",
   "id": "c95a9371-8f60-471a-83c0-5b51474ef8d9",
   "metadata": {},
   "source": [
    "### Congratulations! you have completed this lab!\n",
    "\n",
    "## Author\n",
    "\n",
    "[Dr. Pooja]()\n",
    "\n",
    "### Other Contributors\n",
    "\n",
    "\n",
    "\n",
    "\n",
    "## Change Log\n",
    "\n",
    "| Date (YYYY-MM-DD) | Version | Changed By    | Change Description                 |\n",
    "| ----------------- | ------- | ------------- | ---------------------------------- |\n",
    "| 2023-06-19        | 1.0     | Dr. Pooja        | initial version created   |\n",
    "\n",
    "## <h3 align=\"center\"> © IBM Corporation 2020. All rights reserved. <h3/>\n"
   ]
  },
  {
   "cell_type": "code",
   "execution_count": null,
   "id": "b8a2c914-6169-4fd9-9700-932f5c1f986e",
   "metadata": {},
   "outputs": [],
   "source": []
  }
 ],
 "metadata": {
  "kernelspec": {
   "display_name": "Python 3 (ipykernel)",
   "language": "python",
   "name": "python3"
  },
  "language_info": {
   "codemirror_mode": {
    "name": "ipython",
    "version": 3
   },
   "file_extension": ".py",
   "mimetype": "text/x-python",
   "name": "python",
   "nbconvert_exporter": "python",
   "pygments_lexer": "ipython3",
   "version": "3.9.12"
  }
 },
 "nbformat": 4,
 "nbformat_minor": 4
}
